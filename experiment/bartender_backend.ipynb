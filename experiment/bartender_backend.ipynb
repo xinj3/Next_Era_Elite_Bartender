{
 "cells": [
  {
   "cell_type": "code",
   "execution_count": 9,
   "metadata": {},
   "outputs": [],
   "source": [
    "import pandas as pd\n",
    "import numpy as np\n",
    "from sklearn.feature_extraction.text import TfidfVectorizer, ENGLISH_STOP_WORDS\n",
    "from sklearn.metrics.pairwise import linear_kernel\n",
    "import json"
   ]
  },
  {
   "cell_type": "code",
   "execution_count": 68,
   "metadata": {},
   "outputs": [],
   "source": [
    "class Bartender():\n",
    "    def __init__(self, file_path=\"../dataset/cocktail_all.csv\"):\n",
    "        self.df = pd.read_csv(file_path)\n",
    "        self.vectorizer = None\n",
    "        self.tfidf_matrix = None\n",
    "        self.feature_df = None\n",
    "        self.similarity_df = None\n",
    "\n",
    "        self.name_vectorizer = None\n",
    "        self.name_tfidf_matrix = None\n",
    "        self.name_df = None\n",
    "        self.name_similarity_df = None\n",
    "\n",
    "        self.image_url = None\n",
    "\n",
    "    def load_analizer(self):\n",
    "        self.df.fillna('', inplace=True)\n",
    "        stop_words = frozenset(['oz', 'simple', 'dash', 'bsp', 'drops', \"ml\", \"grams\", \"gram\"])\n",
    "        self.vectorizer = TfidfVectorizer(stop_words=ENGLISH_STOP_WORDS.union(stop_words), token_pattern=r'\\b[^\\d\\W][^\\d\\W]+\\b')\n",
    "        self.tfidf_matrix = self.vectorizer.fit_transform(self.df['Ingredients'])\n",
    "        self.feature_df = pd.DataFrame(self.tfidf_matrix.toarray(), columns=self.vectorizer.get_feature_names(), index=self.df['Cocktail Name'])\n",
    "        similarity_matrix = linear_kernel(self.tfidf_matrix, self.tfidf_matrix)\n",
    "        self.similarity_df = pd.DataFrame(similarity_matrix, columns=self.feature_df.index, index=self.feature_df.index)\n",
    "\n",
    "        self.name_vectorizer = TfidfVectorizer(stop_words=ENGLISH_STOP_WORDS)\n",
    "        self.name_tfidf_matrix = self.name_vectorizer.fit_transform(self.df['Cocktail Name'])\n",
    "        self.name_df = pd.DataFrame(self.name_tfidf_matrix.toarray(), columns=self.name_vectorizer.get_feature_names(), index=self.df['Cocktail Name'])\n",
    "        name_similarity_matrix = linear_kernel(self.name_tfidf_matrix, self.name_tfidf_matrix)\n",
    "        self.name_similarity_df = pd.DataFrame(name_similarity_matrix, columns=self.name_df.index, index=self.name_df.index)\n",
    "\n",
    "        self.image_url = pd.read_csv(\"../dataset/image_url.csv\")\n",
    "\n",
    "    def convert_df_2_json(self, df, names):\n",
    "        idx = []\n",
    "        for i, name in enumerate(list(df[\"Cocktail Name\"])):\n",
    "            idx.append(np.argwhere(np.array(names) == name)[0][0])\n",
    "        idx = np.array(idx)\n",
    "        out = {\"name\":[], \"all_ingredients\": [], \"preparation\": [], \"image\": []}\n",
    "        out[\"name\"] = list(np.array(list(df[\"Cocktail Name\"]))[idx])\n",
    "        out[\"all_ingredients\"] = list(np.array(list(df[\"All Ingredients\"]))[idx])\n",
    "        out[\"preparation\"] = list(np.array(list(df[\"Preparation\"]))[idx])\n",
    "        out[\"image\"] = list(np.array(self.get_image_url_list(out[\"name\"]))[idx])\n",
    "        return json.dumps(out)\n",
    "            \n",
    "\n",
    "    def get_similarity_matrix_by_ingredients(self, user_input):\n",
    "        user_input_vector = self.vectorizer.transform([user_input])\n",
    "        similarity_vector = linear_kernel(self.tfidf_matrix, user_input_vector)\n",
    "        return pd.DataFrame(similarity_vector, columns=['Similarity'], index=self.df['Cocktail Name']).sort_values(by='Similarity', ascending=False)\n",
    "\n",
    "    def get_recommendation_list_by_ingredient(self, user_input, k=10):\n",
    "        similar_items = self.get_similarity_matrix_by_ingredients(user_input)\n",
    "        return self.convert_df_2_json(self.df[self.df['Cocktail Name'].isin(similar_items[:k].index)], list(similar_items[:k].index))\n",
    "\n",
    "    def get_similarity_matrix_by_name(self, user_input, k=5):\n",
    "        user_input_vector = self.name_vectorizer.transform([user_input])\n",
    "        similarity_vector = linear_kernel(self.name_tfidf_matrix, user_input_vector)\n",
    "        return pd.DataFrame(similarity_vector, columns=['Similarity'], index=self.df['Cocktail Name']).sort_values(by='Similarity', ascending=False)\n",
    "\n",
    "    def get_recommendation_list_by_name(self, user_input, k=5):\n",
    "        similar_items = self.get_similarity_matrix_by_name(user_input)\n",
    "        return self.convert_df_2_json(self.df[self.df['Cocktail Name'].isin(similar_items[:k].index)], list(similar_items[:k].index))\n",
    "\n",
    "    def get_recommendation_list(self, user_input, k=10):\n",
    "        similar_items_by_ingredient = self.get_similarity_matrix_by_ingredients(user_input)\n",
    "        similar_items_by_name = self.get_similarity_matrix_by_name(user_input)\n",
    "\n",
    "        similar_items = pd.concat([similar_items_by_ingredient, similar_items_by_name], axis=0)\n",
    "        similar_items_sorted = similar_items.sort_values(by='Similarity', ascending=False)[:k]\n",
    "        return self.convert_df_2_json(self.df[self.df['Cocktail Name'].isin(similar_items_sorted[:k].index)], list(similar_items_sorted[:k].index))\n",
    "\n",
    "    def get_image_url_list(self, names, placeHolder_addrss=\"http://www.thecocktaildb.com/images/media/drink/wpxpvu1439905379.jpg\"):\n",
    "        url_list = []\n",
    "        for name in names:\n",
    "            if name in np.array(self.image_url[\"Name\"]):\n",
    "                url_list.append(np.array(self.image_url.loc[self.image_url[\"Name\"] == name, \"url\"])[0])\n",
    "            else:\n",
    "                rand_idx = int(np.random.rand()*len(self.image_url[\"Name\"]))\n",
    "                rand_name = self.image_url[\"Name\"][rand_idx]\n",
    "                placeHolder_addrss = np.array(self.image_url.loc[self.image_url[\"Name\"] == rand_name, \"url\"])[0]\n",
    "                url_list.append(placeHolder_addrss)\n",
    "        return url_list\n",
    "\n"
   ]
  },
  {
   "cell_type": "code",
   "execution_count": 69,
   "metadata": {},
   "outputs": [],
   "source": [
    "bartender = Bartender(file_path=\"/Users/xin/Next_Era_Elite_Bartender/dataset/cocktail_all.csv\")\n",
    "bartender.load_analizer()"
   ]
  },
  {
   "cell_type": "markdown",
   "metadata": {},
   "source": [
    "Search by ingredients"
   ]
  },
  {
   "cell_type": "code",
   "execution_count": 70,
   "metadata": {},
   "outputs": [
    {
     "data": {
      "text/plain": [
       "'{\"name\": [\"RUM COOLER\", \"69 SPECIAL\", \"WHISKEY SOUR\", \"ZIZI COIN-COIN\", \"TEQUILA SOUR\"], \"all_ingredients\": [\"Lemon, Lemon-lime soda, Rum, ,\", \"Lemon juice, 7-Up, Gin, ,\", \"Lemon, Cherry, Powdered sugar, Lemon, Blended whiskey, ,\", \"Lemon, Ice, Lemon juice, Cointreau, ,\", \"Cherry, Lemon, Powdered sugar, Lemon, Tequila, ,\"], \"preparation\": [\"Pour the rum and soda into a collins glass almost filled with ice cubes. Stir well and garnish with the lemon wedge.\", \"Pour 2 oz. gin. Add 4 oz. 7-up. Add Lemon Juice for flavor. If you are weak, top up glass with more 7-Up.\", \"Shake with ice. Strain into chilled glass, garnish and serve. If served \\'On the rocks\\', strain ingredients into old-fashioned glass filled with ice.\", \"Pour 5cl of Cointreau on ice, add 2cl of fresh lemon (or lime) juice, stir gently, and finally add slices of lemon/lime in glass.\", \"Shake tequila, juice of lemon, and powdered sugar with ice and strain into a whiskey sour glass. Add the half-slice of lemon, top with the cherry, and serve.\"], \"image\": [\"http://www.thecocktaildb.com/images/media/drink/vqyxqx1472669095.jpg\", \"http://www.thecocktaildb.com/images/media/drink/2hgwsb1504888674.jpg\", \"http://www.thecocktaildb.com/images/media/drink/0fbo2t1485620752.jpg\", \"http://www.thecocktaildb.com/images/media/drink/ek0mlq1504820601.jpg\", \"http://www.thecocktaildb.com/images/media/drink/o56h041504352725.jpg\"]}'"
      ]
     },
     "execution_count": 70,
     "metadata": {},
     "output_type": "execute_result"
    }
   ],
   "source": [
    "bartender.get_recommendation_list_by_ingredient(\"lemon\", k=5)"
   ]
  },
  {
   "cell_type": "markdown",
   "metadata": {},
   "source": [
    "Search by Name"
   ]
  },
  {
   "cell_type": "code",
   "execution_count": 71,
   "metadata": {},
   "outputs": [
    {
     "data": {
      "text/plain": [
       "'{\"name\": [\"LONG ISLAND TEA\", \"RADIOACTIVE LONG ISLAND ICED TEA\", \"LONG ISLAND LIMONCELLO MARTINI\", \"3-MILE LONG ISLAND ICED TEA\", \"LONG ISLAND ICED TEA\"], \"all_ingredients\": [\"Coca-Cola, Lemon, Tequila, Gin, Light rum, Vodka, ,\", \"Malibu rum, Midori melon liqueur, Chambord raspberry liqueur, Triple sec, Gin, Tequila, Vodka, Rum, ,\", \"1 oz Hangar 1 Buddha\\'s Hand Citron Vodka, 1 oz Luxardo Limoncello, .75 oz Fresh Lemon Juice, .25 oz Monin Cane Syrup,Lemon Wheel\", \"Lemon, Bitters, Sweet and sour, Coca-Cola, Vodka, Triple sec, Tequila, Light rum, Gin, ,\", \"Lemon peel, Coca-Cola, Gin, Light rum, Tequila, Vodka, ,\"], \"preparation\": [\"Combine all ingredients (except cola) and pour over ice in a highball glass. Add the splash of cola for color. Decorate with a slice of lemon and serve.\", \"Pour all ingredients over ice in a very tall glass. Sip cautiously.\", \"Served up and finished with a lemon wheel.\", \"Fill 14oz glass with ice and alcohol. Fill 2/3 glass with cola and remainder with sweet & sour. Top with dash of bitters and lemon wedge.\", \"Mix all contents in a highball glass and sitr gently. Add dash of Coca-Cola for the coloring and garnish with lemon or lime twist.\"], \"image\": [\"http://www.thecocktaildb.com/images/media/drink/qtwxwr1483387647.jpg\", \"http://www.thecocktaildb.com/images/media/drink/wx7hsg1504370510.jpg\", \"http://www.thecocktaildb.com/images/media/drink/ywxwqs1439906072.jpg\", \"http://www.thecocktaildb.com/images/media/drink/rdvqmh1503563512.jpg\", \"http://www.thecocktaildb.com/images/media/drink/rrtssw1472668972.jpg\"]}'"
      ]
     },
     "execution_count": 71,
     "metadata": {},
     "output_type": "execute_result"
    }
   ],
   "source": [
    "bartender.get_recommendation_list_by_name(\"long island\", k=5)"
   ]
  },
  {
   "cell_type": "markdown",
   "metadata": {},
   "source": [
    "Search by ingredient/name"
   ]
  },
  {
   "cell_type": "code",
   "execution_count": 62,
   "metadata": {},
   "outputs": [
    {
     "data": {
      "text/html": [
       "<div>\n",
       "<style scoped>\n",
       "    .dataframe tbody tr th:only-of-type {\n",
       "        vertical-align: middle;\n",
       "    }\n",
       "\n",
       "    .dataframe tbody tr th {\n",
       "        vertical-align: top;\n",
       "    }\n",
       "\n",
       "    .dataframe thead th {\n",
       "        text-align: right;\n",
       "    }\n",
       "</style>\n",
       "<table border=\"1\" class=\"dataframe\">\n",
       "  <thead>\n",
       "    <tr style=\"text-align: right;\">\n",
       "      <th></th>\n",
       "      <th>Unnamed: 0</th>\n",
       "      <th>Cocktail Name</th>\n",
       "      <th>Ingredients</th>\n",
       "      <th>Garnish</th>\n",
       "      <th>Preparation</th>\n",
       "      <th>All Ingredients</th>\n",
       "    </tr>\n",
       "  </thead>\n",
       "  <tbody>\n",
       "    <tr>\n",
       "      <th>90</th>\n",
       "      <td>90</td>\n",
       "      <td>1880'S AMERICANA</td>\n",
       "      <td>2 oz Hirsch Small Batch Reserve Bourbon, 10 ml...</td>\n",
       "      <td>Cola candied orange peel</td>\n",
       "      <td>Build over ice in Old Fashioned glass.</td>\n",
       "      <td>2 oz Hirsch Small Batch Reserve Bourbon, 10 ml...</td>\n",
       "    </tr>\n",
       "    <tr>\n",
       "      <th>189</th>\n",
       "      <td>190</td>\n",
       "      <td>PINK &amp; BLACK</td>\n",
       "      <td>2 oz Pink Pigeon Rum, 3 oz Coca-Cola, .5 oz Li...</td>\n",
       "      <td></td>\n",
       "      <td>Combine the Pink Pigeon, the cola, and the lim...</td>\n",
       "      <td>2 oz Pink Pigeon Rum, 3 oz Coca-Cola, .5 oz Li...</td>\n",
       "    </tr>\n",
       "    <tr>\n",
       "      <th>684</th>\n",
       "      <td>0</td>\n",
       "      <td>155 BELMONT</td>\n",
       "      <td>Orange juice, Vodka, Light rum, Dark rum,</td>\n",
       "      <td></td>\n",
       "      <td>Blend with ice. Serve in a wine glass. Garnish...</td>\n",
       "      <td>Orange juice, Vodka, Light rum, Dark rum, ,</td>\n",
       "    </tr>\n",
       "    <tr>\n",
       "      <th>692</th>\n",
       "      <td>8</td>\n",
       "      <td>410 GONE</td>\n",
       "      <td>Coca-Cola, Peach Vodka,</td>\n",
       "      <td></td>\n",
       "      <td></td>\n",
       "      <td>Coca-Cola, Peach Vodka, ,</td>\n",
       "    </tr>\n",
       "    <tr>\n",
       "      <th>747</th>\n",
       "      <td>65</td>\n",
       "      <td>CUBA LIBRE</td>\n",
       "      <td>Coca-Cola, Lime, Light rum,</td>\n",
       "      <td></td>\n",
       "      <td>Build all ingredients in a Collins glass fille...</td>\n",
       "      <td>Coca-Cola, Lime, Light rum, ,</td>\n",
       "    </tr>\n",
       "    <tr>\n",
       "      <th>867</th>\n",
       "      <td>188</td>\n",
       "      <td>KIWI LEMON</td>\n",
       "      <td>Ice, Bitter lemon, Kiwi liqueur,</td>\n",
       "      <td></td>\n",
       "      <td>Mix in highball glass. Stirr. Garnish with sli...</td>\n",
       "      <td>Ice, Bitter lemon, Kiwi liqueur, ,</td>\n",
       "    </tr>\n",
       "    <tr>\n",
       "      <th>876</th>\n",
       "      <td>197</td>\n",
       "      <td>LEMON SHOT</td>\n",
       "      <td>151 proof rum, Sugar, Lemon, Absolut Citron, G...</td>\n",
       "      <td></td>\n",
       "      <td>Mix Galliano and Absolut Citron in a shot glas...</td>\n",
       "      <td>151 proof rum, Sugar, Lemon, Absolut Citron, G...</td>\n",
       "    </tr>\n",
       "    <tr>\n",
       "      <th>878</th>\n",
       "      <td>199</td>\n",
       "      <td>LEMON DROP</td>\n",
       "      <td>Lemon, Cointreau, Absolut Vodka,</td>\n",
       "      <td></td>\n",
       "      <td>Shake and strain into a chilled cocktail glass...</td>\n",
       "      <td>Lemon, Cointreau, Absolut Vodka, ,</td>\n",
       "    </tr>\n",
       "    <tr>\n",
       "      <th>884</th>\n",
       "      <td>205</td>\n",
       "      <td>LONG ISLAND TEA</td>\n",
       "      <td>Coca-Cola, Lemon, Tequila, Gin, Light rum, Vod...</td>\n",
       "      <td></td>\n",
       "      <td>Combine all ingredients (except cola) and pour...</td>\n",
       "      <td>Coca-Cola, Lemon, Tequila, Gin, Light rum, Vod...</td>\n",
       "    </tr>\n",
       "    <tr>\n",
       "      <th>888</th>\n",
       "      <td>209</td>\n",
       "      <td>LONG ISLAND ICED TEA</td>\n",
       "      <td>Lemon peel, Coca-Cola, Gin, Light rum, Tequila...</td>\n",
       "      <td></td>\n",
       "      <td>Mix all contents in a highball glass and sitr ...</td>\n",
       "      <td>Lemon peel, Coca-Cola, Gin, Light rum, Tequila...</td>\n",
       "    </tr>\n",
       "  </tbody>\n",
       "</table>\n",
       "</div>"
      ],
      "text/plain": [
       "     Unnamed: 0         Cocktail Name  \\\n",
       "90           90      1880'S AMERICANA   \n",
       "189         190          PINK & BLACK   \n",
       "684           0           155 BELMONT   \n",
       "692           8              410 GONE   \n",
       "747          65            CUBA LIBRE   \n",
       "867         188            KIWI LEMON   \n",
       "876         197            LEMON SHOT   \n",
       "878         199            LEMON DROP   \n",
       "884         205       LONG ISLAND TEA   \n",
       "888         209  LONG ISLAND ICED TEA   \n",
       "\n",
       "                                           Ingredients  \\\n",
       "90   2 oz Hirsch Small Batch Reserve Bourbon, 10 ml...   \n",
       "189  2 oz Pink Pigeon Rum, 3 oz Coca-Cola, .5 oz Li...   \n",
       "684         Orange juice, Vodka, Light rum, Dark rum,    \n",
       "692                           Coca-Cola, Peach Vodka,    \n",
       "747                       Coca-Cola, Lime, Light rum,    \n",
       "867                  Ice, Bitter lemon, Kiwi liqueur,    \n",
       "876  151 proof rum, Sugar, Lemon, Absolut Citron, G...   \n",
       "878                  Lemon, Cointreau, Absolut Vodka,    \n",
       "884  Coca-Cola, Lemon, Tequila, Gin, Light rum, Vod...   \n",
       "888  Lemon peel, Coca-Cola, Gin, Light rum, Tequila...   \n",
       "\n",
       "                      Garnish  \\\n",
       "90   Cola candied orange peel   \n",
       "189                             \n",
       "684                             \n",
       "692                             \n",
       "747                             \n",
       "867                             \n",
       "876                             \n",
       "878                             \n",
       "884                             \n",
       "888                             \n",
       "\n",
       "                                           Preparation  \\\n",
       "90              Build over ice in Old Fashioned glass.   \n",
       "189  Combine the Pink Pigeon, the cola, and the lim...   \n",
       "684  Blend with ice. Serve in a wine glass. Garnish...   \n",
       "692                                                      \n",
       "747  Build all ingredients in a Collins glass fille...   \n",
       "867  Mix in highball glass. Stirr. Garnish with sli...   \n",
       "876  Mix Galliano and Absolut Citron in a shot glas...   \n",
       "878  Shake and strain into a chilled cocktail glass...   \n",
       "884  Combine all ingredients (except cola) and pour...   \n",
       "888  Mix all contents in a highball glass and sitr ...   \n",
       "\n",
       "                                       All Ingredients  \n",
       "90   2 oz Hirsch Small Batch Reserve Bourbon, 10 ml...  \n",
       "189  2 oz Pink Pigeon Rum, 3 oz Coca-Cola, .5 oz Li...  \n",
       "684        Orange juice, Vodka, Light rum, Dark rum, ,  \n",
       "692                          Coca-Cola, Peach Vodka, ,  \n",
       "747                      Coca-Cola, Lime, Light rum, ,  \n",
       "867                 Ice, Bitter lemon, Kiwi liqueur, ,  \n",
       "876  151 proof rum, Sugar, Lemon, Absolut Citron, G...  \n",
       "878                 Lemon, Cointreau, Absolut Vodka, ,  \n",
       "884  Coca-Cola, Lemon, Tequila, Gin, Light rum, Vod...  \n",
       "888  Lemon peel, Coca-Cola, Gin, Light rum, Tequila...  "
      ]
     },
     "execution_count": 62,
     "metadata": {},
     "output_type": "execute_result"
    }
   ],
   "source": [
    "bartender.get_recommendation_list(\"155, sugar, lemon, cola\", k=10)"
   ]
  },
  {
   "cell_type": "code",
   "execution_count": 64,
   "metadata": {},
   "outputs": [
    {
     "data": {
      "text/plain": [
       "['http://www.thecocktaildb.com/images/media/drink/ft8ed01485620930.jpg',\n",
       " 'http://www.thecocktaildb.com/images/media/drink/mx31hv1487602979.jpg',\n",
       " 'http://www.thecocktaildb.com/images/media/drink/ywxwqs1439906072.jpg',\n",
       " 'path/to/local/address']"
      ]
     },
     "execution_count": 64,
     "metadata": {},
     "output_type": "execute_result"
    }
   ],
   "source": [
    "bartender.get_image_url_list([\"ZOKSEL\", \"LEMON SHOT\", \"LONG ISLAND TEA\", \"none\"])"
   ]
  },
  {
   "cell_type": "code",
   "execution_count": 67,
   "metadata": {},
   "outputs": [
    {
     "data": {
      "text/plain": [
       "array([3, 2, 1])"
      ]
     },
     "execution_count": 67,
     "metadata": {},
     "output_type": "execute_result"
    }
   ],
   "source": [
    "idx = np.array([2,1,0])\n",
    "np.array([1,2,3])[idx]"
   ]
  },
  {
   "cell_type": "code",
   "execution_count": null,
   "metadata": {},
   "outputs": [],
   "source": []
  }
 ],
 "metadata": {
  "kernelspec": {
   "display_name": "Python 3.8.8 ('base')",
   "language": "python",
   "name": "python3"
  },
  "language_info": {
   "codemirror_mode": {
    "name": "ipython",
    "version": 3
   },
   "file_extension": ".py",
   "mimetype": "text/x-python",
   "name": "python",
   "nbconvert_exporter": "python",
   "pygments_lexer": "ipython3",
   "version": "3.8.8"
  },
  "orig_nbformat": 4,
  "vscode": {
   "interpreter": {
    "hash": "40d3a090f54c6569ab1632332b64b2c03c39dcf918b08424e98f38b5ae0af88f"
   }
  }
 },
 "nbformat": 4,
 "nbformat_minor": 2
}
